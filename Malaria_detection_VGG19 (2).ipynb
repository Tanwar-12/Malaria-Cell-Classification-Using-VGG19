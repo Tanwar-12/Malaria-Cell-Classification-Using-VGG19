{
  "nbformat": 4,
  "nbformat_minor": 0,
  "metadata": {
    "colab": {
      "provenance": []
    },
    "kernelspec": {
      "name": "python3",
      "display_name": "Python 3"
    },
    "language_info": {
      "name": "python"
    }
  },
  "cells": [
    {
      "cell_type": "code",
      "source": [
        "# Mounting the google drive \n",
        "from google.colab import drive\n",
        "drive.mount(\"/content/drive\")"
      ],
      "metadata": {
        "colab": {
          "base_uri": "https://localhost:8080/"
        },
        "id": "bVtSR4I1XPJx",
        "outputId": "9d2fc2f1-363a-410b-a898-205efa8cdbb8"
      },
      "execution_count": null,
      "outputs": [
        {
          "output_type": "stream",
          "name": "stdout",
          "text": [
            "Mounted at /content/drive\n"
          ]
        }
      ]
    },
    {
      "cell_type": "markdown",
      "source": [
        "## Malaria Detection VGG19"
      ],
      "metadata": {
        "id": "tbFnkjoiWJxg"
      }
    },
    {
      "cell_type": "markdown",
      "source": [
        "### WE WILL BE CLASSIFYING WHETHER THERSON HAS MALARIA OR NOT BY CLASSIFYING THE X-RAY SCANS\n",
        "\n",
        "### OF INFECTED AND UNINFECTED IMAGES.\n",
        "\n",
        "#### WE WILL CLASSIFY IMAGES USING TRANSFER LEARNING TECHNIQUE(VGG 19)\n",
        "Transfer Learning: Transfer learning (TL) is a research problem in machine learning (ML) that focuses on storing knowledge\n",
        "\n",
        "gained while solving one problem and applying it to a different but related problem. For example, knowledge gained while\n",
        "\n",
        "learning to recognize cars could apply when trying to recognize trucks."
      ],
      "metadata": {
        "id": "wV1RGUphWXJb"
      }
    },
    {
      "cell_type": "markdown",
      "metadata": {
        "papermill": {
          "duration": 0.010008,
          "end_time": "2022-09-23T15:32:43.296725",
          "exception": false,
          "start_time": "2022-09-23T15:32:43.286717",
          "status": "completed"
        },
        "tags": [],
        "id": "969996aa"
      },
      "source": [
        "# <b>1.0 <span style='color:red'>|</span> Import Packages </b> <a class=\"anchor\" id=\"1.0\"></a>"
      ]
    },
    {
      "cell_type": "code",
      "source": [
        "# IMPORTING NECESSARY LIBRARIES\n",
        "import numpy as np\n",
        "import matplotlib.pyplot as plt\n",
        "from tensorflow.keras.layers import Input,Dense,Lambda,Flatten,Conv2D\n",
        "from tensorflow.keras.models import Model\n",
        "from tensorflow.keras.applications.vgg19 import VGG19\n",
        "from tensorflow.keras.applications.resnet50 import preprocess_input\n",
        "from tensorflow.keras.preprocessing import image\n",
        "from tensorflow.keras.preprocessing.image import ImageDataGenerator, load_img\n",
        "from tensorflow.keras.models import Sequential\n",
        "from glob import glob"
      ],
      "metadata": {
        "id": "xhWH5dLzN3Pa"
      },
      "execution_count": null,
      "outputs": []
    },
    {
      "cell_type": "code",
      "source": [
        "# RE-SIZE ALL THE IMAGES TO THIS\n",
        "IMAGE_SIZE = [224,224]\n",
        "train=r'/content/drive/MyDrive/Train'\n",
        "valid_path= r'/content/drive/MyDrive/Test'"
      ],
      "metadata": {
        "id": "2n3rOFmsOIcj"
      },
      "execution_count": null,
      "outputs": []
    },
    {
      "cell_type": "code",
      "source": [
        "# IMPORTING THE VGG 19 LIBRARY AS SHOWN AND ADDING PRE PROCESSING LAYER TO THE FRONT OF VGG\n",
        "# WE WILL USE IMAGENET WEIGHTS\n",
        "\n",
        "vgg19= VGG19(input_shape= IMAGE_SIZE + [3], weights='imagenet',include_top=False)"
      ],
      "metadata": {
        "colab": {
          "base_uri": "https://localhost:8080/"
        },
        "id": "mXIy9ssDOYpJ",
        "outputId": "fa4f8107-c2bd-4ceb-cdf9-75bb0b7dcfe6"
      },
      "execution_count": null,
      "outputs": [
        {
          "output_type": "stream",
          "name": "stdout",
          "text": [
            "Downloading data from https://storage.googleapis.com/tensorflow/keras-applications/vgg19/vgg19_weights_tf_dim_ordering_tf_kernels_notop.h5\n",
            "80142336/80134624 [==============================] - 1s 0us/step\n",
            "80150528/80134624 [==============================] - 1s 0us/step\n"
          ]
        }
      ]
    },
    {
      "cell_type": "code",
      "source": [
        "vgg19.summary()"
      ],
      "metadata": {
        "colab": {
          "base_uri": "https://localhost:8080/"
        },
        "id": "_9s4srKVOdo1",
        "outputId": "81ec9d9b-3043-4863-91c0-b9e86d2db977"
      },
      "execution_count": null,
      "outputs": [
        {
          "output_type": "stream",
          "name": "stdout",
          "text": [
            "Model: \"vgg19\"\n",
            "_________________________________________________________________\n",
            " Layer (type)                Output Shape              Param #   \n",
            "=================================================================\n",
            " input_1 (InputLayer)        [(None, 224, 224, 3)]     0         \n",
            "                                                                 \n",
            " block1_conv1 (Conv2D)       (None, 224, 224, 64)      1792      \n",
            "                                                                 \n",
            " block1_conv2 (Conv2D)       (None, 224, 224, 64)      36928     \n",
            "                                                                 \n",
            " block1_pool (MaxPooling2D)  (None, 112, 112, 64)      0         \n",
            "                                                                 \n",
            " block2_conv1 (Conv2D)       (None, 112, 112, 128)     73856     \n",
            "                                                                 \n",
            " block2_conv2 (Conv2D)       (None, 112, 112, 128)     147584    \n",
            "                                                                 \n",
            " block2_pool (MaxPooling2D)  (None, 56, 56, 128)       0         \n",
            "                                                                 \n",
            " block3_conv1 (Conv2D)       (None, 56, 56, 256)       295168    \n",
            "                                                                 \n",
            " block3_conv2 (Conv2D)       (None, 56, 56, 256)       590080    \n",
            "                                                                 \n",
            " block3_conv3 (Conv2D)       (None, 56, 56, 256)       590080    \n",
            "                                                                 \n",
            " block3_conv4 (Conv2D)       (None, 56, 56, 256)       590080    \n",
            "                                                                 \n",
            " block3_pool (MaxPooling2D)  (None, 28, 28, 256)       0         \n",
            "                                                                 \n",
            " block4_conv1 (Conv2D)       (None, 28, 28, 512)       1180160   \n",
            "                                                                 \n",
            " block4_conv2 (Conv2D)       (None, 28, 28, 512)       2359808   \n",
            "                                                                 \n",
            " block4_conv3 (Conv2D)       (None, 28, 28, 512)       2359808   \n",
            "                                                                 \n",
            " block4_conv4 (Conv2D)       (None, 28, 28, 512)       2359808   \n",
            "                                                                 \n",
            " block4_pool (MaxPooling2D)  (None, 14, 14, 512)       0         \n",
            "                                                                 \n",
            " block5_conv1 (Conv2D)       (None, 14, 14, 512)       2359808   \n",
            "                                                                 \n",
            " block5_conv2 (Conv2D)       (None, 14, 14, 512)       2359808   \n",
            "                                                                 \n",
            " block5_conv3 (Conv2D)       (None, 14, 14, 512)       2359808   \n",
            "                                                                 \n",
            " block5_conv4 (Conv2D)       (None, 14, 14, 512)       2359808   \n",
            "                                                                 \n",
            " block5_pool (MaxPooling2D)  (None, 7, 7, 512)         0         \n",
            "                                                                 \n",
            "=================================================================\n",
            "Total params: 20,024,384\n",
            "Trainable params: 20,024,384\n",
            "Non-trainable params: 0\n",
            "_________________________________________________________________\n"
          ]
        }
      ]
    },
    {
      "cell_type": "code",
      "source": [
        "# don't train existing weights\n",
        "for layer in vgg19.layers:\n",
        "    layer.trainable = False"
      ],
      "metadata": {
        "id": "98LeAEaaOh6K"
      },
      "execution_count": null,
      "outputs": []
    },
    {
      "cell_type": "code",
      "source": [
        "# useful for getting number of output classes, here we have 2 i.e Parasite and uninfected\n",
        "folders= glob(r'/content/drive/MyDrive/Train/*')"
      ],
      "metadata": {
        "id": "y6HEl-dCOnBN"
      },
      "execution_count": null,
      "outputs": []
    },
    {
      "cell_type": "code",
      "source": [
        "folders"
      ],
      "metadata": {
        "colab": {
          "base_uri": "https://localhost:8080/"
        },
        "id": "B1HKhMsgOwrL",
        "outputId": "344b2290-0816-43dd-8d7c-5f03b276691a"
      },
      "execution_count": null,
      "outputs": [
        {
          "output_type": "execute_result",
          "data": {
            "text/plain": [
              "['/content/drive/MyDrive/Train/Uninfected',\n",
              " '/content/drive/MyDrive/Train/Parasite']"
            ]
          },
          "metadata": {},
          "execution_count": 10
        }
      ]
    },
    {
      "cell_type": "code",
      "source": [
        "# OUR LAYERS- YOU CAN ADD MORE IF YOU WANT\n",
        "# FLATTENING THE LAST LAYER OF VGG19\n",
        "x= Flatten()(vgg19.output)"
      ],
      "metadata": {
        "id": "ZXqYyQSuO05Y"
      },
      "execution_count": null,
      "outputs": []
    },
    {
      "cell_type": "code",
      "source": [
        "# we will be having 2 nodes in our output layer because we have 2 classes to classify\n",
        "prediction= Dense(len(folders),activation='softmax')(x)\n",
        "\n",
        "# creating a model\n",
        "model= Model(inputs=vgg19.input,outputs=prediction)"
      ],
      "metadata": {
        "id": "7b8FGFTTPIRY"
      },
      "execution_count": null,
      "outputs": []
    },
    {
      "cell_type": "code",
      "source": [
        "# viewing the structure of model\n",
        "# in last layer we can see that we have  2 nodes\n",
        "model.summary()"
      ],
      "metadata": {
        "colab": {
          "base_uri": "https://localhost:8080/"
        },
        "id": "ujMjIouKPMA1",
        "outputId": "2d7701e4-aa98-4643-dddb-95d71eb9a786"
      },
      "execution_count": null,
      "outputs": [
        {
          "output_type": "stream",
          "name": "stdout",
          "text": [
            "Model: \"model\"\n",
            "_________________________________________________________________\n",
            " Layer (type)                Output Shape              Param #   \n",
            "=================================================================\n",
            " input_1 (InputLayer)        [(None, 224, 224, 3)]     0         \n",
            "                                                                 \n",
            " block1_conv1 (Conv2D)       (None, 224, 224, 64)      1792      \n",
            "                                                                 \n",
            " block1_conv2 (Conv2D)       (None, 224, 224, 64)      36928     \n",
            "                                                                 \n",
            " block1_pool (MaxPooling2D)  (None, 112, 112, 64)      0         \n",
            "                                                                 \n",
            " block2_conv1 (Conv2D)       (None, 112, 112, 128)     73856     \n",
            "                                                                 \n",
            " block2_conv2 (Conv2D)       (None, 112, 112, 128)     147584    \n",
            "                                                                 \n",
            " block2_pool (MaxPooling2D)  (None, 56, 56, 128)       0         \n",
            "                                                                 \n",
            " block3_conv1 (Conv2D)       (None, 56, 56, 256)       295168    \n",
            "                                                                 \n",
            " block3_conv2 (Conv2D)       (None, 56, 56, 256)       590080    \n",
            "                                                                 \n",
            " block3_conv3 (Conv2D)       (None, 56, 56, 256)       590080    \n",
            "                                                                 \n",
            " block3_conv4 (Conv2D)       (None, 56, 56, 256)       590080    \n",
            "                                                                 \n",
            " block3_pool (MaxPooling2D)  (None, 28, 28, 256)       0         \n",
            "                                                                 \n",
            " block4_conv1 (Conv2D)       (None, 28, 28, 512)       1180160   \n",
            "                                                                 \n",
            " block4_conv2 (Conv2D)       (None, 28, 28, 512)       2359808   \n",
            "                                                                 \n",
            " block4_conv3 (Conv2D)       (None, 28, 28, 512)       2359808   \n",
            "                                                                 \n",
            " block4_conv4 (Conv2D)       (None, 28, 28, 512)       2359808   \n",
            "                                                                 \n",
            " block4_pool (MaxPooling2D)  (None, 14, 14, 512)       0         \n",
            "                                                                 \n",
            " block5_conv1 (Conv2D)       (None, 14, 14, 512)       2359808   \n",
            "                                                                 \n",
            " block5_conv2 (Conv2D)       (None, 14, 14, 512)       2359808   \n",
            "                                                                 \n",
            " block5_conv3 (Conv2D)       (None, 14, 14, 512)       2359808   \n",
            "                                                                 \n",
            " block5_conv4 (Conv2D)       (None, 14, 14, 512)       2359808   \n",
            "                                                                 \n",
            " block5_pool (MaxPooling2D)  (None, 7, 7, 512)         0         \n",
            "                                                                 \n",
            " flatten (Flatten)           (None, 25088)             0         \n",
            "                                                                 \n",
            " dense (Dense)               (None, 2)                 50178     \n",
            "                                                                 \n",
            "=================================================================\n",
            "Total params: 20,074,562\n",
            "Trainable params: 50,178\n",
            "Non-trainable params: 20,024,384\n",
            "_________________________________________________________________\n"
          ]
        }
      ]
    },
    {
      "cell_type": "code",
      "source": [
        "# TELLING THE MODEL WHAT COST AND OPTIMIZATION METHOD TO USE\n",
        "# we are using adam optimizer\n",
        "# we are using categorical_cross entropy because we have 2 nodes in last layer\n",
        "model.compile(\n",
        "           loss='categorical_crossentropy',\n",
        "           optimizer='adam',\n",
        "           metrics=['accuracy']\n",
        ")"
      ],
      "metadata": {
        "id": "E9ekl-q4PPiM"
      },
      "execution_count": null,
      "outputs": []
    },
    {
      "cell_type": "code",
      "source": [
        "# USING THE IMAGE DATA GENERATOR TO IMPORT IMAGES FROM DATASET\n",
        "from tensorflow.keras.preprocessing.image import ImageDataGenerator\n",
        "\n",
        "train_datagen= ImageDataGenerator(rescale=1./255,\n",
        "                                  shear_range=0.2,\n",
        "                                 zoom_range=0.2,\n",
        "                                 horizontal_flip=True)\n",
        "\n",
        "# WE DONT USE IMAGE AUGMENTATION ON TEST DATA EXCEPT RESCALING\n",
        "test_datagen= ImageDataGenerator(rescale=1./255)"
      ],
      "metadata": {
        "id": "V6Uob95DPUYw"
      },
      "execution_count": null,
      "outputs": []
    },
    {
      "cell_type": "code",
      "source": [
        "# MAKE SURE YOU PROVIDE THE SAME TARGET SIZE AS INITIALIZED FOR THE IMAGE SIZE\n",
        "training_set= train_datagen.flow_from_directory(r'/content/drive/MyDrive/Train',\n",
        "                                               target_size=(224,224),\n",
        "                                               batch_size=32,\n",
        "                                               class_mode='categorical')"
      ],
      "metadata": {
        "colab": {
          "base_uri": "https://localhost:8080/"
        },
        "id": "3zOt4XO6PXZU",
        "outputId": "362b8a81-d745-4c2f-e15a-32ab53f30ab4"
      },
      "execution_count": null,
      "outputs": [
        {
          "output_type": "stream",
          "name": "stdout",
          "text": [
            "Found 416 images belonging to 2 classes.\n"
          ]
        }
      ]
    },
    {
      "cell_type": "code",
      "source": [
        "test_set = test_datagen.flow_from_directory(r'/content/drive/MyDrive/Test',\n",
        "                                            target_size = (224, 224),\n",
        "                                            batch_size = 32,\n",
        "                                            class_mode = 'categorical')"
      ],
      "metadata": {
        "colab": {
          "base_uri": "https://localhost:8080/"
        },
        "id": "H6hQAOArQE47",
        "outputId": "db306b11-c540-4c97-b163-2e07c2e43ded"
      },
      "execution_count": null,
      "outputs": [
        {
          "output_type": "stream",
          "name": "stdout",
          "text": [
            "Found 134 images belonging to 2 classes.\n"
          ]
        }
      ]
    },
    {
      "cell_type": "code",
      "source": [
        "# fit the model\n",
        "# Run the cell. It will take some time to execute\n",
        "r = model.fit_generator(\n",
        "  training_set,\n",
        "  validation_data=test_set,\n",
        "  epochs=50,\n",
        "  steps_per_epoch=len(training_set),\n",
        "  validation_steps=len(test_set)\n",
        ")"
      ],
      "metadata": {
        "colab": {
          "base_uri": "https://localhost:8080/"
        },
        "id": "wL4lO-CvPat4",
        "outputId": "6f8e8e59-6434-48a2-dfee-e4afc4e9c2d5"
      },
      "execution_count": null,
      "outputs": [
        {
          "output_type": "stream",
          "name": "stderr",
          "text": [
            "/usr/local/lib/python3.7/dist-packages/ipykernel_launcher.py:8: UserWarning: `Model.fit_generator` is deprecated and will be removed in a future version. Please use `Model.fit`, which supports generators.\n",
            "  \n"
          ]
        },
        {
          "output_type": "stream",
          "name": "stdout",
          "text": [
            "Epoch 1/50\n",
            "13/13 [==============================] - 380s 29s/step - loss: 1.1991 - accuracy: 0.5433 - val_loss: 0.5017 - val_accuracy: 0.7313\n",
            "Epoch 2/50\n",
            "13/13 [==============================] - 354s 28s/step - loss: 0.5003 - accuracy: 0.7620 - val_loss: 0.4781 - val_accuracy: 0.7612\n",
            "Epoch 3/50\n",
            "13/13 [==============================] - 352s 28s/step - loss: 0.4128 - accuracy: 0.7957 - val_loss: 0.4369 - val_accuracy: 0.7910\n",
            "Epoch 4/50\n",
            "13/13 [==============================] - 355s 28s/step - loss: 0.3453 - accuracy: 0.8630 - val_loss: 0.4211 - val_accuracy: 0.8134\n",
            "Epoch 5/50\n",
            "13/13 [==============================] - 357s 28s/step - loss: 0.3726 - accuracy: 0.8365 - val_loss: 0.4042 - val_accuracy: 0.7836\n",
            "Epoch 6/50\n",
            "13/13 [==============================] - 353s 28s/step - loss: 0.3022 - accuracy: 0.8846 - val_loss: 0.4269 - val_accuracy: 0.7985\n",
            "Epoch 7/50\n",
            "13/13 [==============================] - 351s 28s/step - loss: 0.2797 - accuracy: 0.8990 - val_loss: 0.3745 - val_accuracy: 0.8507\n",
            "Epoch 8/50\n",
            "13/13 [==============================] - 354s 28s/step - loss: 0.2326 - accuracy: 0.9183 - val_loss: 0.4426 - val_accuracy: 0.7537\n",
            "Epoch 9/50\n",
            "13/13 [==============================] - 353s 28s/step - loss: 0.2495 - accuracy: 0.8894 - val_loss: 0.3229 - val_accuracy: 0.8731\n",
            "Epoch 10/50\n",
            "13/13 [==============================] - 351s 28s/step - loss: 0.2196 - accuracy: 0.9327 - val_loss: 0.4741 - val_accuracy: 0.7239\n",
            "Epoch 11/50\n",
            "13/13 [==============================] - 352s 28s/step - loss: 0.2287 - accuracy: 0.9231 - val_loss: 0.3678 - val_accuracy: 0.7910\n",
            "Epoch 12/50\n",
            "13/13 [==============================] - 354s 28s/step - loss: 0.2310 - accuracy: 0.9111 - val_loss: 0.3955 - val_accuracy: 0.7910\n",
            "Epoch 13/50\n",
            "13/13 [==============================] - 354s 28s/step - loss: 0.1985 - accuracy: 0.9111 - val_loss: 0.3676 - val_accuracy: 0.8134\n",
            "Epoch 14/50\n",
            "13/13 [==============================] - 352s 28s/step - loss: 0.2073 - accuracy: 0.9111 - val_loss: 0.2928 - val_accuracy: 0.8806\n",
            "Epoch 15/50\n",
            "13/13 [==============================] - 356s 28s/step - loss: 0.2095 - accuracy: 0.9183 - val_loss: 0.3357 - val_accuracy: 0.8806\n",
            "Epoch 16/50\n",
            "13/13 [==============================] - 356s 28s/step - loss: 0.1750 - accuracy: 0.9399 - val_loss: 0.2855 - val_accuracy: 0.8731\n",
            "Epoch 17/50\n",
            "13/13 [==============================] - 356s 28s/step - loss: 0.1850 - accuracy: 0.9255 - val_loss: 0.2783 - val_accuracy: 0.9104\n",
            "Epoch 18/50\n",
            "13/13 [==============================] - 356s 28s/step - loss: 0.1348 - accuracy: 0.9591 - val_loss: 0.3220 - val_accuracy: 0.8433\n",
            "Epoch 19/50\n",
            "13/13 [==============================] - 354s 28s/step - loss: 0.1432 - accuracy: 0.9567 - val_loss: 0.2577 - val_accuracy: 0.9030\n",
            "Epoch 20/50\n",
            "13/13 [==============================] - 356s 28s/step - loss: 0.1316 - accuracy: 0.9688 - val_loss: 0.3144 - val_accuracy: 0.8433\n",
            "Epoch 21/50\n",
            "13/13 [==============================] - 350s 27s/step - loss: 0.1447 - accuracy: 0.9519 - val_loss: 0.5104 - val_accuracy: 0.7388\n",
            "Epoch 22/50\n",
            "13/13 [==============================] - 350s 27s/step - loss: 0.1477 - accuracy: 0.9447 - val_loss: 0.2381 - val_accuracy: 0.9104\n",
            "Epoch 23/50\n",
            "13/13 [==============================] - 349s 27s/step - loss: 0.1497 - accuracy: 0.9423 - val_loss: 0.3921 - val_accuracy: 0.7761\n",
            "Epoch 24/50\n",
            "13/13 [==============================] - 350s 27s/step - loss: 0.1262 - accuracy: 0.9639 - val_loss: 0.3615 - val_accuracy: 0.8060\n",
            "Epoch 25/50\n",
            "13/13 [==============================] - 350s 27s/step - loss: 0.1408 - accuracy: 0.9543 - val_loss: 0.2264 - val_accuracy: 0.9328\n",
            "Epoch 26/50\n",
            "13/13 [==============================] - 350s 27s/step - loss: 0.1163 - accuracy: 0.9639 - val_loss: 0.2208 - val_accuracy: 0.9328\n",
            "Epoch 27/50\n",
            "13/13 [==============================] - 349s 27s/step - loss: 0.1288 - accuracy: 0.9471 - val_loss: 0.2050 - val_accuracy: 0.9328\n",
            "Epoch 28/50\n",
            "13/13 [==============================] - 349s 27s/step - loss: 0.1374 - accuracy: 0.9615 - val_loss: 0.5036 - val_accuracy: 0.7313\n",
            "Epoch 29/50\n",
            "13/13 [==============================] - 349s 27s/step - loss: 0.1351 - accuracy: 0.9519 - val_loss: 0.2299 - val_accuracy: 0.9179\n",
            "Epoch 30/50\n",
            "13/13 [==============================] - 349s 27s/step - loss: 0.0941 - accuracy: 0.9736 - val_loss: 0.2205 - val_accuracy: 0.9328\n",
            "Epoch 31/50\n",
            "13/13 [==============================] - 350s 27s/step - loss: 0.1165 - accuracy: 0.9639 - val_loss: 0.3224 - val_accuracy: 0.8433\n",
            "Epoch 32/50\n",
            "13/13 [==============================] - 349s 27s/step - loss: 0.1091 - accuracy: 0.9639 - val_loss: 0.3069 - val_accuracy: 0.8731\n",
            "Epoch 33/50\n",
            "13/13 [==============================] - 349s 27s/step - loss: 0.1042 - accuracy: 0.9663 - val_loss: 0.2214 - val_accuracy: 0.9254\n",
            "Epoch 34/50\n",
            "13/13 [==============================] - 349s 27s/step - loss: 0.1237 - accuracy: 0.9471 - val_loss: 0.3227 - val_accuracy: 0.8507\n",
            "Epoch 35/50\n",
            "13/13 [==============================] - 348s 27s/step - loss: 0.0908 - accuracy: 0.9712 - val_loss: 0.2038 - val_accuracy: 0.9254\n",
            "Epoch 36/50\n",
            "13/13 [==============================] - 349s 27s/step - loss: 0.0868 - accuracy: 0.9760 - val_loss: 0.2258 - val_accuracy: 0.8955\n",
            "Epoch 37/50\n",
            "13/13 [==============================] - 350s 27s/step - loss: 0.0780 - accuracy: 0.9784 - val_loss: 0.3171 - val_accuracy: 0.8507\n",
            "Epoch 38/50\n",
            "13/13 [==============================] - 349s 27s/step - loss: 0.0848 - accuracy: 0.9808 - val_loss: 0.2937 - val_accuracy: 0.8731\n",
            "Epoch 39/50\n",
            "13/13 [==============================] - 351s 28s/step - loss: 0.0857 - accuracy: 0.9784 - val_loss: 0.2132 - val_accuracy: 0.9104\n",
            "Epoch 40/50\n",
            "13/13 [==============================] - 349s 27s/step - loss: 0.0815 - accuracy: 0.9784 - val_loss: 0.1898 - val_accuracy: 0.9328\n",
            "Epoch 41/50\n",
            "13/13 [==============================] - 349s 27s/step - loss: 0.0755 - accuracy: 0.9784 - val_loss: 0.1893 - val_accuracy: 0.9328\n",
            "Epoch 42/50\n",
            "13/13 [==============================] - 349s 27s/step - loss: 0.0603 - accuracy: 0.9928 - val_loss: 0.2653 - val_accuracy: 0.8881\n",
            "Epoch 43/50\n",
            "13/13 [==============================] - 350s 27s/step - loss: 0.0805 - accuracy: 0.9760 - val_loss: 0.3033 - val_accuracy: 0.8507\n",
            "Epoch 44/50\n",
            "13/13 [==============================] - 348s 27s/step - loss: 0.0738 - accuracy: 0.9784 - val_loss: 0.1882 - val_accuracy: 0.9328\n",
            "Epoch 45/50\n",
            "13/13 [==============================] - 350s 27s/step - loss: 0.0632 - accuracy: 0.9928 - val_loss: 0.1955 - val_accuracy: 0.9403\n",
            "Epoch 46/50\n",
            "13/13 [==============================] - 350s 27s/step - loss: 0.0634 - accuracy: 0.9880 - val_loss: 0.2081 - val_accuracy: 0.9104\n",
            "Epoch 47/50\n",
            "13/13 [==============================] - 349s 27s/step - loss: 0.0551 - accuracy: 0.9904 - val_loss: 0.2359 - val_accuracy: 0.9030\n",
            "Epoch 48/50\n",
            "13/13 [==============================] - 348s 27s/step - loss: 0.0715 - accuracy: 0.9760 - val_loss: 0.1824 - val_accuracy: 0.9328\n",
            "Epoch 49/50\n",
            "13/13 [==============================] - 348s 27s/step - loss: 0.0787 - accuracy: 0.9712 - val_loss: 0.2068 - val_accuracy: 0.9254\n",
            "Epoch 50/50\n",
            "13/13 [==============================] - 351s 28s/step - loss: 0.0701 - accuracy: 0.9856 - val_loss: 0.2239 - val_accuracy: 0.9104\n"
          ]
        }
      ]
    },
    {
      "cell_type": "markdown",
      "source": [
        "### WE CAN SEE THAT WE ARE GETTING AN ACCURACY OF 97.60% IN OUR FINAL EPOCH WHICH IS PRETTY GOOD"
      ],
      "metadata": {
        "id": "nnH2s36RWg6L"
      }
    },
    {
      "cell_type": "code",
      "source": [
        "# plot the loss\n",
        "plt.plot(r.history['loss'], label='train loss')\n",
        "plt.plot(r.history['val_loss'], label='val loss')\n",
        "plt.legend()\n",
        "plt.show()\n",
        "plt.savefig('LossVal_loss')\n",
        "\n",
        "# plot the accuracy\n",
        "plt.plot(r.history['accuracy'], label='train acc')\n",
        "plt.plot(r.history['val_accuracy'], label='val acc')\n",
        "plt.legend()\n",
        "plt.show()\n",
        "plt.savefig('AccVal_acc')"
      ],
      "metadata": {
        "colab": {
          "base_uri": "https://localhost:8080/",
          "height": 530
        },
        "id": "1TtBgO7HWoCd",
        "outputId": "5b799b28-2bca-49fe-878f-fdefec7723c7"
      },
      "execution_count": null,
      "outputs": [
        {
          "output_type": "display_data",
          "data": {
            "text/plain": [
              "<Figure size 432x288 with 1 Axes>"
            ],
            "image/png": "[encoded data removed]"
          },
          "metadata": {
            "needs_background": "light"
          }
        },
        {
          "output_type": "display_data",
          "data": {
            "text/plain": [
              "<Figure size 432x288 with 1 Axes>"
            ],
            "image/png": "[encoded data removed]"
          },
          "metadata": {
            "needs_background": "light"
          }
        },
        {
          "output_type": "display_data",
          "data": {
            "text/plain": [
              "<Figure size 432x288 with 0 Axes>"
            ]
          },
          "metadata": {}
        }
      ]
    },
    {
      "cell_type": "code",
      "source": [
        " # save it as a h5 file\n",
        "\n",
        "\n",
        "from tensorflow.keras.models import load_model\n",
        "\n",
        "model.save('model_vgg19.h5')"
      ],
      "metadata": {
        "id": "Nabo1R65WoEN"
      },
      "execution_count": null,
      "outputs": []
    },
    {
      "cell_type": "code",
      "source": [
        "# our prediction variable\n",
        "y_pred = model.predict(test_set)"
      ],
      "metadata": {
        "id": "xDxqtqkqWoIn"
      },
      "execution_count": null,
      "outputs": []
    },
    {
      "cell_type": "code",
      "source": [
        "y_pred# LOADING THE MODEL\n",
        "from tensorflow.keras.preprocessing import image\n",
        "model=load_model('model_vgg19.h5')"
      ],
      "metadata": {
        "id": "upp3l6CaWoLg"
      },
      "execution_count": null,
      "outputs": []
    },
    {
      "cell_type": "code",
      "source": [
        "# PATH OF AN IMAGE FROM OUR TEST DATASET\n",
        "img= image.load_img(r'/content/drive/MyDrive/Test/Uninfected/2.png',target_size=(224,224))"
      ],
      "metadata": {
        "id": "4XeY3zHnYinT"
      },
      "execution_count": null,
      "outputs": []
    },
    {
      "cell_type": "code",
      "source": [
        "# CONVERTING THE IMAGE INTO ARRAY\n",
        "y=image.img_to_array(img)\n",
        "y"
      ],
      "metadata": {
        "colab": {
          "base_uri": "https://localhost:8080/"
        },
        "id": "rqouOJR3W-kT",
        "outputId": "6cd0b0ee-de52-4bd3-cfcf-4d1a55c4e69f"
      },
      "execution_count": null,
      "outputs": [
        {
          "output_type": "execute_result",
          "data": {
            "text/plain": [
              "array([[[0., 0., 0.],\n",
              "        [0., 0., 0.],\n",
              "        [0., 0., 0.],\n",
              "        ...,\n",
              "        [0., 0., 0.],\n",
              "        [0., 0., 0.],\n",
              "        [0., 0., 0.]],\n",
              "\n",
              "       [[0., 0., 0.],\n",
              "        [0., 0., 0.],\n",
              "        [0., 0., 0.],\n",
              "        ...,\n",
              "        [0., 0., 0.],\n",
              "        [0., 0., 0.],\n",
              "        [0., 0., 0.]],\n",
              "\n",
              "       [[0., 0., 0.],\n",
              "        [0., 0., 0.],\n",
              "        [0., 0., 0.],\n",
              "        ...,\n",
              "        [0., 0., 0.],\n",
              "        [0., 0., 0.],\n",
              "        [0., 0., 0.]],\n",
              "\n",
              "       ...,\n",
              "\n",
              "       [[0., 0., 0.],\n",
              "        [0., 0., 0.],\n",
              "        [0., 0., 0.],\n",
              "        ...,\n",
              "        [0., 0., 0.],\n",
              "        [0., 0., 0.],\n",
              "        [0., 0., 0.]],\n",
              "\n",
              "       [[0., 0., 0.],\n",
              "        [0., 0., 0.],\n",
              "        [0., 0., 0.],\n",
              "        ...,\n",
              "        [0., 0., 0.],\n",
              "        [0., 0., 0.],\n",
              "        [0., 0., 0.]],\n",
              "\n",
              "       [[0., 0., 0.],\n",
              "        [0., 0., 0.],\n",
              "        [0., 0., 0.],\n",
              "        ...,\n",
              "        [0., 0., 0.],\n",
              "        [0., 0., 0.],\n",
              "        [0., 0., 0.]]], dtype=float32)"
            ]
          },
          "metadata": {},
          "execution_count": 34
        }
      ]
    },
    {
      "cell_type": "code",
      "source": [
        "# LOOKING AT THE SHAPE OF THE IMAGE---> 3D\n",
        "y.shape"
      ],
      "metadata": {
        "colab": {
          "base_uri": "https://localhost:8080/"
        },
        "id": "FRZDt6I4W-oz",
        "outputId": "50a22a79-2a72-438e-be19-210610a77e32"
      },
      "execution_count": null,
      "outputs": [
        {
          "output_type": "execute_result",
          "data": {
            "text/plain": [
              "(224, 224, 3)"
            ]
          },
          "metadata": {},
          "execution_count": 35
        }
      ]
    },
    {
      "cell_type": "code",
      "source": [
        "y=y/255"
      ],
      "metadata": {
        "id": "bjD5n4dQXO9S"
      },
      "execution_count": null,
      "outputs": []
    },
    {
      "cell_type": "code",
      "source": [
        "# EXPANDING THE DIMENSIONS\n",
        "\n",
        "y=np.expand_dims(y,axis=0)\n",
        "img_data=preprocess_input(y)\n",
        "img_data.shape"
      ],
      "metadata": {
        "colab": {
          "base_uri": "https://localhost:8080/"
        },
        "id": "sLNUfXfyXO_Z",
        "outputId": "a3c2880a-ecfc-4ab7-ccea-fb7432147c6a"
      },
      "execution_count": null,
      "outputs": [
        {
          "output_type": "execute_result",
          "data": {
            "text/plain": [
              "(1, 224, 224, 3)"
            ]
          },
          "metadata": {},
          "execution_count": 37
        }
      ]
    },
    {
      "cell_type": "code",
      "source": [
        "model.predict(img_data)"
      ],
      "metadata": {
        "colab": {
          "base_uri": "https://localhost:8080/"
        },
        "id": "UAAwJpg_XPDc",
        "outputId": "5c40d9c3-279d-4fbb-dcf1-a16276e84045"
      },
      "execution_count": null,
      "outputs": [
        {
          "output_type": "execute_result",
          "data": {
            "text/plain": [
              "array([[6.0380253e-06, 9.9999392e-01]], dtype=float32)"
            ]
          },
          "metadata": {},
          "execution_count": 38
        }
      ]
    },
    {
      "cell_type": "code",
      "source": [
        "a= np.argmax(model.predict(img_data),axis=1)"
      ],
      "metadata": {
        "id": "6l59cYe_XZWn"
      },
      "execution_count": null,
      "outputs": []
    },
    {
      "cell_type": "code",
      "source": [
        "if(a==1):\n",
        "    print(\"Uninfected\")\n",
        "else:\n",
        "    print(\"Infected\")"
      ],
      "metadata": {
        "colab": {
          "base_uri": "https://localhost:8080/"
        },
        "id": "1OsFkqzaXZYl",
        "outputId": "908ddb25-6c9f-443e-bf36-a15f46074ace"
      },
      "execution_count": null,
      "outputs": [
        {
          "output_type": "stream",
          "name": "stdout",
          "text": [
            "Uninfected\n"
          ]
        }
      ]
    },
    {
      "cell_type": "markdown",
      "source": [
        "OUR PREDICTION IS CORRECT HERE"
      ],
      "metadata": {
        "id": "xOiEeHOhXizG"
      }
    }
  ]
}